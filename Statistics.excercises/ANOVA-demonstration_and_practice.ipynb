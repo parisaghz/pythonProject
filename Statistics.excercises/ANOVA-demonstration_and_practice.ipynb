{
 "cells": [
  {
   "cell_type": "code",
   "execution_count": null,
   "metadata": {},
   "outputs": [],
   "source": [
    "#import libraries\n",
    "import pandas as pd\n",
    "import numpy as np\n",
    "import matplotlib.pyplot as plt\n",
    "import scipy.stats as stats\n",
    "import seaborn as sns"
   ]
  },
  {
   "cell_type": "markdown",
   "metadata": {},
   "source": [
    "# 1. Consumer segment data\n",
    "- A subscription based service company wants to analyze their customer.\n",
    "- They collected data from a random sample 300 respondants.\n",
    "- The data collected contains information: age, gender, income, number of children, whether they own home or not, and currently do they subscribe to the offered service or not.\n",
    "- The customers are divided into four segments. \n",
    "- We will analyze if four consumer segments are statistically different or not using ANOVA."
   ]
  },
  {
   "cell_type": "code",
   "execution_count": null,
   "metadata": {},
   "outputs": [
    {
     "data": {
      "text/html": [
       "<div>\n",
       "<style scoped>\n",
       "    .dataframe tbody tr th:only-of-type {\n",
       "        vertical-align: middle;\n",
       "    }\n",
       "\n",
       "    .dataframe tbody tr th {\n",
       "        vertical-align: top;\n",
       "    }\n",
       "\n",
       "    .dataframe thead th {\n",
       "        text-align: right;\n",
       "    }\n",
       "</style>\n",
       "<table border=\"1\" class=\"dataframe\">\n",
       "  <thead>\n",
       "    <tr style=\"text-align: right;\">\n",
       "      <th></th>\n",
       "      <th>Segment</th>\n",
       "      <th>age</th>\n",
       "      <th>gender</th>\n",
       "      <th>income</th>\n",
       "      <th>kids</th>\n",
       "      <th>own_home</th>\n",
       "      <th>subscribe</th>\n",
       "    </tr>\n",
       "  </thead>\n",
       "  <tbody>\n",
       "    <tr>\n",
       "      <th>0</th>\n",
       "      <td>travelers</td>\n",
       "      <td>60.794945</td>\n",
       "      <td>male</td>\n",
       "      <td>57014.537526</td>\n",
       "      <td>0</td>\n",
       "      <td>True</td>\n",
       "      <td>False</td>\n",
       "    </tr>\n",
       "    <tr>\n",
       "      <th>1</th>\n",
       "      <td>travelers</td>\n",
       "      <td>61.764535</td>\n",
       "      <td>female</td>\n",
       "      <td>43796.941252</td>\n",
       "      <td>0</td>\n",
       "      <td>False</td>\n",
       "      <td>False</td>\n",
       "    </tr>\n",
       "    <tr>\n",
       "      <th>2</th>\n",
       "      <td>travelers</td>\n",
       "      <td>47.493356</td>\n",
       "      <td>male</td>\n",
       "      <td>51095.344683</td>\n",
       "      <td>0</td>\n",
       "      <td>True</td>\n",
       "      <td>False</td>\n",
       "    </tr>\n",
       "    <tr>\n",
       "      <th>3</th>\n",
       "      <td>travelers</td>\n",
       "      <td>60.963694</td>\n",
       "      <td>male</td>\n",
       "      <td>56457.722237</td>\n",
       "      <td>0</td>\n",
       "      <td>True</td>\n",
       "      <td>True</td>\n",
       "    </tr>\n",
       "    <tr>\n",
       "      <th>4</th>\n",
       "      <td>travelers</td>\n",
       "      <td>60.594199</td>\n",
       "      <td>female</td>\n",
       "      <td>103020.070798</td>\n",
       "      <td>0</td>\n",
       "      <td>True</td>\n",
       "      <td>False</td>\n",
       "    </tr>\n",
       "  </tbody>\n",
       "</table>\n",
       "</div>"
      ],
      "text/plain": [
       "     Segment        age  gender         income  kids  own_home  subscribe\n",
       "0  travelers  60.794945    male   57014.537526     0      True      False\n",
       "1  travelers  61.764535  female   43796.941252     0     False      False\n",
       "2  travelers  47.493356    male   51095.344683     0      True      False\n",
       "3  travelers  60.963694    male   56457.722237     0      True       True\n",
       "4  travelers  60.594199  female  103020.070798     0      True      False"
      ]
     },
     "execution_count": 3,
     "metadata": {},
     "output_type": "execute_result"
    }
   ],
   "source": [
    "# Reading data\n",
    "df = pd.read_csv('http://bit.ly/PMR-ch5')\n",
    "df.head()"
   ]
  },
  {
   "cell_type": "markdown",
   "metadata": {},
   "source": [
    "## 1.1 One-way ANOVA\n",
    "Is there a difference between the mean income for the four different consumer segments? \n",
    "\n",
    "- $H_0$: There is no difference between the mean income for 4 different consumer segments. <br />\n",
    "- $H_A$: There is a difference between the mean income for 4 different consumer segments.\n",
    "- Significance level $\\alpha = 0.05$"
   ]
  },
  {
   "cell_type": "code",
   "execution_count": null,
   "metadata": {},
   "outputs": [
    {
     "data": {
      "text/plain": [
       "suburb_mix    100\n",
       "travelers      80\n",
       "moving_up      70\n",
       "urban_hip      50\n",
       "Name: Segment, dtype: int64"
      ]
     },
     "execution_count": 4,
     "metadata": {},
     "output_type": "execute_result"
    }
   ],
   "source": [
    "# Doing some eploratory data analysis (EDA)\n",
    "# checking number of consumers per segment\n",
    "df['Segment'].value_counts()"
   ]
  },
  {
   "cell_type": "code",
   "execution_count": null,
   "metadata": {},
   "outputs": [
    {
     "name": "stdout",
     "output_type": "stream",
     "text": [
      "             df        sum_sq       mean_sq           F        PR(>F)\n",
      "Segment     3.0  6.008669e+10  2.002890e+10  114.651236  2.794439e-49\n",
      "Residual  296.0  5.170946e+10  1.746941e+08         NaN           NaN\n"
     ]
    }
   ],
   "source": [
    "#Import necessary python modules for performing ANOVA\n",
    "import statsmodels.api as sm\n",
    "import statsmodels.formula.api as smf\n",
    "\n",
    "\n",
    "#Fitting One-way ANOVA linear model for testing H0 using the 'ols' class in the smf (statsmodels.formula.api) package\n",
    "income_segment_lm = smf.ols('income ~ Segment', data = df).fit()\n",
    "\n",
    "#Creating the anova table using the stats.anova_lm method in the sm (statsmodels.api) package\n",
    "anova_table = sm.stats.anova_lm(income_segment_lm)\n",
    "print(anova_table)"
   ]
  },
  {
   "cell_type": "markdown",
   "metadata": {},
   "source": [
    "\n",
    "**Result of One-way ANOVA:** As the $p$-value < 0.05, we reject $H_0$ in favor of $H_A$."
   ]
  },
  {
   "cell_type": "markdown",
   "metadata": {},
   "source": [
    "## 1.1.2 Checking for assumptions of one-way ANOVA:\n",
    "- Generally while performing ANOVA we **must** test for the assumptions! \n",
    "\n",
    "The assumptions for one-way ANOVA are:\n",
    "- *Sample independence*: each sample has been drawn independently of the other samples\n",
    "- *Normality*: each sample is taken from a normally distributed population \n",
    "- *Equal variance*: the variance of data within the different groups (in this case consumer segment) should be the same"
   ]
  },
  {
   "cell_type": "markdown",
   "metadata": {},
   "source": [
    "### Testing for normality\n",
    "- *Compute the residuals*: the residuals are computes by simply subtracting from the measurements of each segment the mean value for that segment and dividing by the standard deviation of each segment.\n",
    "- We will use inbuild residual function from the 'ols' class of the 'statsmodels.formula.api' package to compute the residuals\n",
    "- use a Q-Q plot against standard normal distribution"
   ]
  },
  {
   "cell_type": "code",
   "execution_count": null,
   "metadata": {},
   "outputs": [
    {
     "data": {
      "image/png": "[encoded data removed]",
      "text/plain": [
       "<Figure size 432x288 with 1 Axes>"
      ]
     },
     "metadata": {
      "needs_background": "light"
     },
     "output_type": "display_data"
    }
   ],
   "source": [
    "# using the inbuild residual function from the 'ols' class\n",
    "residuals = income_segment_lm.resid\n",
    "# using statsmodels.api (sm) qqplot method\n",
    "sm.qqplot(residuals, stats.norm, line = 's')\n",
    "plt.show()"
   ]
  },
  {
   "cell_type": "code",
   "execution_count": null,
   "metadata": {},
   "outputs": [
    {
     "data": {
      "image/png": "[encoded data removed]",
      "text/plain": [
       "<Figure size 432x288 with 1 Axes>"
      ]
     },
     "metadata": {
      "needs_background": "light"
     },
     "output_type": "display_data"
    }
   ],
   "source": [
    "# Histogram plot of the residuals\n",
    "plt.hist(residuals, bins = 20, facecolor = 'pink', edgecolor = 'k')\n",
    "plt.title('Histogram plot of the residuals')\n",
    "plt.xlabel('Residuals')\n",
    "plt.show()"
   ]
  },
  {
   "cell_type": "markdown",
   "metadata": {},
   "source": [
    "### **Q1) What would you conclude from the qq plot and the histogram plot of the residuals?**"
   ]
  },
  {
   "cell_type": "markdown",
   "metadata": {},
   "source": [
    "### Equal variance: Visually analyzing the data first for testing equal variance"
   ]
  },
  {
   "cell_type": "code",
   "execution_count": null,
   "metadata": {},
   "outputs": [
    {
     "data": {
      "image/png": "[encoded data removed]",
      "text/plain": [
       "<Figure size 720x360 with 1 Axes>"
      ]
     },
     "metadata": {
      "needs_background": "light"
     },
     "output_type": "display_data"
    }
   ],
   "source": [
    "# First we visually analyze the four segments income using a boxplot\n",
    "fig = plt.subplots(figsize=(10,5))\n",
    "sns.boxplot(x = 'income', y = 'Segment', data= df, palette=\"husl\")\n",
    "plt.title('Income per consumer segment')\n",
    "plt.show()"
   ]
  },
  {
   "cell_type": "markdown",
   "metadata": {},
   "source": [
    "### **Q2) What would you conclude from the boxplots above?**"
   ]
  },
  {
   "cell_type": "markdown",
   "metadata": {},
   "source": [
    "### Equal variance: hypothesis testing\n",
    "Generally two tests can be used to test if all samples come from populations with equal variances:\n",
    "- **Bartlett’s test**: tests the null hypothesis that all input samples are from populations with equal variances for normal population. \n",
    "Documentation: https://docs.scipy.org/doc/scipy/reference/generated/scipy.stats.bartlett.html\n",
    "-  **Levene test**: tests the null hypothesis that all input samples are from populations with equal variances for non-normal population.\n",
    "Documentation: https://docs.scipy.org/doc/scipy/reference/generated/scipy.stats.levene.html#scipy.stats.levene"
   ]
  },
  {
   "cell_type": "code",
   "execution_count": null,
   "metadata": {},
   "outputs": [],
   "source": [
    "# Getting data for each segment\n",
    "seg_travellers = df[df['Segment'] =='travelers']['income'].values\n",
    "seg_suburb_mix = df[df['Segment'] == 'suburb_mix']['income'].values\n",
    "seg_moving_up = df[df['Segment'] == 'moving_up']['income'].values\n",
    "seg_urban_hip = df[df['Segment'] == 'urban_hip']['income'].values"
   ]
  },
  {
   "cell_type": "markdown",
   "metadata": {},
   "source": [
    "### As we have seen from the residual q-q plot that the data is almost normally distributed, we use the Bartlett's test. However, if one is not convinced they can use the Levene's test for equal variance."
   ]
  },
  {
   "cell_type": "code",
   "execution_count": null,
   "metadata": {},
   "outputs": [
    {
     "name": "stdout",
     "output_type": "stream",
     "text": [
      "Null hypothesis that all input samples are from populations with equal variances is REJECTED\n"
     ]
    }
   ],
   "source": [
    "# Performing the Barlett's test\n",
    "statistic_barlette, p_barlette = stats.bartlett(seg_travellers, seg_suburb_mix, seg_moving_up, seg_urban_hip)\n",
    "\n",
    "if p_barlette < 0.05:\n",
    "    print('Null hypothesis that all input samples are from populations with equal variances is REJECTED')\n",
    "else:\n",
    "    print('We FAIL to REJECT the null hypothesis that all input samples are from populations with equal variances')"
   ]
  },
  {
   "cell_type": "code",
   "execution_count": null,
   "metadata": {},
   "outputs": [
    {
     "name": "stdout",
     "output_type": "stream",
     "text": [
      "Null hypothesis that all input samples are from populations with equal variances is REJECTED\n"
     ]
    }
   ],
   "source": [
    "# Performing the Levene's test\n",
    "statistic_levene, p_levene = stats.levene(seg_travellers, seg_suburb_mix, seg_moving_up, seg_urban_hip)\n",
    "if p_levene < 0.05:\n",
    "    print('Null hypothesis that all input samples are from populations with equal variances is REJECTED')\n",
    "else:\n",
    "    print('We FAIL to REJECT the null hypothesis that all input samples are from populations with equal variances')"
   ]
  },
  {
   "cell_type": "markdown",
   "metadata": {},
   "source": [
    "### Given that the segments do not have equal variances and neither are the sample size in each group are same, we cannot use the parametric one-way ANOVA testing. We need to resort to non-parametric methods. "
   ]
  },
  {
   "cell_type": "markdown",
   "metadata": {},
   "source": [
    "## 1.2 Non parametric method for one-way ANOVA:  Kruskal-Wallis H test\n",
    "- The observations are assumed to be independent, but no particular distributional form, such as the normal, is assumed.\n",
    "- The Kruskal-Wallis H-test tests the null hypothesis that the population median of all of the groups are equal.\n",
    "- The H-statistic follows a $\\chi^2$ distribution with $I-1$ *dof*, where $I$ is number of groups/segments.\n",
    "- Kruskal-Wallis H test is **one-tailed test** as H-statistic follows a $\\chi^2$ distribution.\n",
    "- The test works on 2 or more independent samples, which may have different sizes.\n",
    "- Due to the assumption that the test statistic H has a chi square distribution, the number of samples in each group must not be too small. \n",
    "- A typical rule is that each group must have at least 5 measurements."
   ]
  },
  {
   "cell_type": "code",
   "execution_count": null,
   "metadata": {},
   "outputs": [
    {
     "name": "stdout",
     "output_type": "stream",
     "text": [
      "The p-value for Kruskal-Wallis H test is: 3.6506928970340715e-28\n",
      "We reject the null hypothesis that the population median of all of the groups are equal at significance level = 0.05\n"
     ]
    }
   ],
   "source": [
    "alpha = 0.05\n",
    "test_stat, p_val = stats.kruskal(seg_travellers, seg_urban_hip, seg_suburb_mix, seg_moving_up)\n",
    "print('The p-value for Kruskal-Wallis H test is:', p_val)\n",
    "\n",
    "if p_val <= alpha:\n",
    "    print('We reject the null hypothesis that the population median of all of the groups are equal at significance level = {}'.format(alpha))\n",
    "else:\n",
    "    print('We fail to reject the null hypothesis that the population median of all of the groups are equal at significance level = {}'.format(alpha))"
   ]
  },
  {
   "cell_type": "markdown",
   "metadata": {},
   "source": [
    "### Post hoc method: Bonferroni's test\n",
    "- One-way ANOVA tells us that the means of different groups are all equal or not equal, but the test gives no information about how they differ, in particular about which pairs are significantly different.  In reallife cases we are more inserted in knowing which pairs of groups are different.\n",
    "\n",
    "\n",
    "- **Bonferroni's test**: Performs pair-wise $t$-tests for $k$ null hypoethesis and gaurantees an overall Type I error rate of $\\alpha$ by testing each null\n",
    "hypothesis at a significance level of $\\alpha/k$.\n",
    "\n",
    "- The output from this method tells us whether to reject or not the pair-wise t-tests.\n",
    "- Module documentation: https://www.statsmodels.org/stable/generated/statsmodels.sandbox.stats.multicomp.MultiComparison.allpairtest.html#statsmodels.sandbox.stats.multicomp.MultiComparison.allpairtest\n",
    "- ### **Q3) What is the default $\\alpha$ value given in the documentation? Do you want to change it? Justify your answer**"
   ]
  },
  {
   "cell_type": "code",
   "execution_count": null,
   "metadata": {},
   "outputs": [
    {
     "name": "stdout",
     "output_type": "stream",
     "text": [
      "Test Multiple Comparison ttest_ind \n",
      "FWER=0.05 method=b\n",
      "alphacSidak=0.01, alphacBonf=0.008\n",
      "=====================================================\n",
      "  group1     group2     stat   pval  pval_corr reject\n",
      "-----------------------------------------------------\n",
      " moving_up suburb_mix -2.3583 0.0195     0.117  False\n",
      " moving_up  travelers -4.1198 0.0001    0.0004   True\n",
      " moving_up  urban_hip 22.8021    0.0       0.0   True\n",
      "suburb_mix  travelers -2.9544 0.0036    0.0213   True\n",
      "suburb_mix  urban_hip  21.399    0.0       0.0   True\n",
      " travelers  urban_hip 14.4417    0.0       0.0   True\n",
      "-----------------------------------------------------\n"
     ]
    }
   ],
   "source": [
    "from statsmodels.stats.multicomp import MultiComparison\n",
    "\n",
    "# Creating a class instance\n",
    "mc = MultiComparison(df['income'], df['Segment'])\n",
    "\n",
    "#Applying the .allpairtest class method to perform Bonferroni's test\n",
    "bonferroni = mc.allpairtest(stats.ttest_ind, method='b')\n",
    "print(bonferroni[0])"
   ]
  },
  {
   "cell_type": "markdown",
   "metadata": {},
   "source": [
    "### **Q4) What is FWER is the above result. See if you can find it from the module documentation.**\n",
    "### **Q5) Why is alphacBonf=0.008 in the above result? Think about how many pair-wise t-test are being undertaken and the initial $\\alpha$ value.**"
   ]
  },
  {
   "cell_type": "markdown",
   "metadata": {},
   "source": [
    "## 1.2 Two way ANOVA"
   ]
  },
  {
   "cell_type": "markdown",
   "metadata": {},
   "source": [
    "### Now, we want to know how the income varies per customer segment if they are home owners or not?\n",
    "- First we will do some EDA.\n",
    "- We will perform the EDA to see how income varies per segment and also if the customer owns a home or not."
   ]
  },
  {
   "cell_type": "code",
   "execution_count": null,
   "metadata": {},
   "outputs": [
    {
     "data": {
      "image/png": "[encoded data removed]",
      "text/plain": [
       "<Figure size 1440x360 with 2 Axes>"
      ]
     },
     "metadata": {
      "needs_background": "light"
     },
     "output_type": "display_data"
    }
   ],
   "source": [
    "#EDA \n",
    "#First boxplot: to check how income varies if a customer owns home or not.\n",
    "#Second boxplot: to chech how income varies within each customer segment based on if they own a home or not.\n",
    "fig, axes = plt.subplots(1,2, figsize = ((20,5)))\n",
    "sns.boxplot(x = 'income', y = 'own_home', data= df, palette=\"husl\", orient='h', ax = axes[0])\n",
    "sns.boxplot(x = 'income', y = 'Segment', hue = 'own_home', data= df, palette=\"husl\", ax = axes[1])\n",
    "plt.show()"
   ]
  },
  {
   "cell_type": "markdown",
   "metadata": {},
   "source": [
    "### **Q6) What can you conclude from the above EDA?**"
   ]
  },
  {
   "cell_type": "code",
   "execution_count": null,
   "metadata": {},
   "outputs": [
    {
     "name": "stdout",
     "output_type": "stream",
     "text": [
      "                     df        sum_sq       mean_sq           F        PR(>F)\n",
      "Segment             3.0  6.008669e+10  2.002890e+10  113.502010  9.839888e-49\n",
      "own_home            1.0  4.000708e+07  4.000708e+07    0.226717  6.343252e-01\n",
      "Segment:own_home    3.0  1.422781e+08  4.742603e+07    0.268759  8.479014e-01\n",
      "Residual          292.0  5.152717e+10  1.764629e+08         NaN           NaN\n"
     ]
    }
   ],
   "source": [
    "# Two way ANOVA with interaction\n",
    "formula = 'income ~ Segment*own_home'\n",
    "income_segment_home_lm = smf.ols(formula, data = df).fit()\n",
    "twoWay_anova_table = sm.stats.anova_lm(income_segment_home_lm)\n",
    "print(twoWay_anova_table)"
   ]
  },
  {
   "cell_type": "markdown",
   "metadata": {},
   "source": [
    "### From the result above what can you say:\n",
    "### **Q7) Is there significant interaction (at level $\\alpha = 0.05$) between home ownership and customer segment? In other words, could it be that home ownership is related to income in some segment and not in others? Remember the null hypothesis for AB interactions**? </br>\n",
    "### **Q8) Which variable 'segment' and/or 'own_home' is a significant predictor of income differences (at significance level $\\alpha = 0.05$)?**"
   ]
  },
  {
   "cell_type": "markdown",
   "metadata": {},
   "source": [
    "## Interaction plots "
   ]
  },
  {
   "cell_type": "code",
   "execution_count": null,
   "metadata": {},
   "outputs": [
    {
     "data": {
      "image/png": "[encoded data removed]",
      "text/plain": [
       "<Figure size 720x360 with 1 Axes>"
      ]
     },
     "metadata": {
      "needs_background": "light"
     },
     "output_type": "display_data"
    }
   ],
   "source": [
    "# Following is the code to plot interaction plots\n",
    "from statsmodels.graphics.factorplots import interaction_plot\n",
    "\n",
    "fig = interaction_plot(df['Segment'], df['own_home'], df['income'], colors=['green','blue'], markers=['D','^'], ms=10)\n",
    "plt.rcParams[\"figure.figsize\"] = (10,5)\n",
    "plt.title('Interaction plot')\n",
    "plt.show()"
   ]
  },
  {
   "cell_type": "markdown",
   "metadata": {},
   "source": [
    "## From the plot above:\n",
    "### **Q9) would you say there is significant interaction between 'segment' and 'own_home' categorical variables?** </br>\n",
    "### **Q10) is the interaction plot in agreement with the results from the two-way ANOVA table we got? Elaborate why or why not?**"
   ]
  },
  {
   "cell_type": "markdown",
   "metadata": {},
   "source": [
    "# 2. Iris data\n",
    "\n",
    "- Compare the mean of 'sepal_length' for the different species in the iris dataset.\n",
    "- What is $H_0$ and $H_A$? \n",
    "- Before doing ANOVA what kind of exploratory data analysis (EDA) will you do? Maybe plot some histogram or boxplot? What do you conclude from these plots?\n",
    "- Which ANOVA test will you undertake?\n",
    "- What is your final conclusion from the ANOVA testing? \n",
    "- Write clear codes to test all the ANOVA assumptions. Make some conclusions on if the assumptions are satisfied or not.\n",
    "- While testing the ANOVA assumptions make visualizations similar to what is shown in this notebook above."
   ]
  },
  {
   "cell_type": "code",
   "execution_count": null,
   "metadata": {},
   "outputs": [],
   "source": []
  }
 ],
 "metadata": {
  "kernelspec": {
   "display_name": "Python 3.9.7 ('base')",
   "language": "python",
   "name": "python3"
  },
  "language_info": {
   "codemirror_mode": {
    "name": "ipython",
    "version": 3
   },
   "file_extension": ".py",
   "mimetype": "text/x-python",
   "name": "python",
   "nbconvert_exporter": "python",
   "pygments_lexer": "ipython3",
   "version": "3.9.7"
  },
  "orig_nbformat": 4,
  "vscode": {
   "interpreter": {
    "hash": "08877a2e0c98b89ce1d0751235d644c3d3d1e893d811cf8091088318ce63a798"
   }
  }
 },
 "nbformat": 4,
 "nbformat_minor": 2
}
