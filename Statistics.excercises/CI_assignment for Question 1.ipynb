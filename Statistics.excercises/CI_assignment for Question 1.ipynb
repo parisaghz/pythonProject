{
 "cells": [
  {
   "cell_type": "markdown",
   "metadata": {},
   "source": [
    "### We will estimate confidence intervals from the iris dataset.\n",
    "    - Follow the questions step by step and write a code to find the solution.\n",
    "    - We will read the iris.csv file for you and make various samples from it. \n",
    "    - Please run the cells in the code written.\n",
    "    - In each cell there will questions written. Please type the solution codes according to the questions asked"
   ]
  },
  {
   "cell_type": "code",
   "execution_count": null,
   "metadata": {},
   "outputs": [],
   "source": [
    "### Run this code ###\n",
    "\n",
    "# importing packages\n",
    "import numpy as np\n",
    "import pandas as pd\n",
    "import scipy.stats as stats\n",
    "\n",
    "## Reading the iris dataset \n",
    "iris = pd.read_csv('/Users/parisa/Documents/pythonProject/Statistics/iris Dataset for Question 1.csv')\n",
    "## Generating a random sample of size 50 (n = 50) from the iris dataset.\n",
    "iris_sample_50 = iris.sample(50, random_state = 2098)\n",
    "## Generating a random sample of size 20 (n = 20) from the iris dataset.\n",
    "iris_sample_20 = iris.sample(20, random_state = 1098)\n",
    "\n",
    "print(iris_sample_50)\n",
    "print(iris_sample_20)"
   ]
  },
  {
   "cell_type": "markdown",
   "metadata": {},
   "source": [
    "## Q1: What is the 95% confidence interval of population mean for 'sepal_length' from sample dataset iris_sample_50?\n",
    "    - Print the confidence interval\n",
    "    - What distribution will you use for estimating the confidence interval.\n",
    "    - Write a well commented code. \n",
    "    - Create all the intermediate variables step by step that you will need to create the 95% CI.\n",
    "    - If the 'iris' dataset is the total population. Check if the popualtion mean of sepal_length falls inside the 95% CI.\n",
    "\n"
   ]
  },
  {
   "cell_type": "code",
   "execution_count": null,
   "metadata": {},
   "outputs": [],
   "source": [
    "## Type your code here ##\n",
    "\n",
    "# sample mean\n",
    "\n",
    "sample_50_mean = iris_sample_50['sepal_length'].mean()\n",
    "print(\"Sepal length mean is: \",sample_50_mean)\n",
    "\n",
    "# sample standard deviation\n",
    "sample_50_std = iris_sample_50['sepal_length'].std()\n",
    "print(\"Sepal length std is: \",sample_50_std)\n",
    "\n",
    "# population standard deviation\n",
    "population_std = iris['sepal_length'].std()\n",
    "print(\"population std is: \",population_std)\n",
    "\n",
    "# sample size\n",
    "sample_50_size = len(iris_sample_50)\n",
    "print(\"Sample size is: \",sample_50_size)\n",
    "\n",
    "# using the z-value/t-value for alpha = 0.05, compute the CI_lower and CI_upper. \n",
    "me = 1.96 * (population_std/np.sqrt(sample_50_size))\n",
    "CI_lower = sample_50_mean - me\n",
    "CI_upper = sample_50_mean + me\n",
    "print('CI lower value is :', CI_lower , 'CI upper is:', CI_upper)\n",
    "\n",
    "# print the z-value/t-value you are using\n",
    "\n",
    "# print the CI results\n",
    "\n",
    "# population mean of sepal_length\n",
    "population_mean = iris['sepal_length'].mean()\n",
    "print('population mean is:', population_mean)\n",
    "# print population mean of sepal_length value"
   ]
  },
  {
   "cell_type": "markdown",
   "metadata": {},
   "source": [
    "## Q2: What is the 95% confidence interval of population mean for 'sepal_width' from sample dataset iris_sample_20?\n",
    "    - Print the confidence interval\n",
    "    - What distribution will you use for estimating the confidence interval.\n",
    "    - Write a well commented code. \n",
    "    - Create all the intermediate variables step by step that you will need to create the 95% CI.\n",
    "    - If the 'iris' dataset is the total population. Check is the popoualtion mean of sepal_width falls inside the 95% CI."
   ]
  },
  {
   "cell_type": "code",
   "execution_count": null,
   "metadata": {},
   "outputs": [],
   "source": [
    "## Type your code here ##\n",
    "\n",
    "# sample mean\n",
    "sample_20_mean = iris_sample_20['sepal_width'].mean()\n",
    "print('sample mean is:', sample_20_mean)\n",
    "\n",
    "# sample standard deviation\n",
    "sample_20_std = iris_sample_20['sepal_width'].std()\n",
    "print('sample std is:', sample_20_std)\n",
    "\n",
    "# sample size\n",
    "sample_20_size = len(iris_sample_20)\n",
    "print('sample size is:', sample_20_size)\n",
    "\n",
    "# using the z-value/t-value for alpha = 0.05, compute the CI_lower and CI_upper. \n",
    "ME = 1.96 * (population_std/np.sqrt(sample_20_size))\n",
    "CI_lower = sample_20_mean - ME\n",
    "CI_upper = sample_20_mean + ME\n",
    "print('CI lower value is :', CI_lower , 'CI upper is:', CI_upper)\n",
    "# print the z-value/t-value you are using\n",
    "\n",
    "# print the CI results\n",
    "\n",
    "# population mean of sepal_width\n",
    "population_20_mean = iris['sepal_width'].mean()\n",
    "print('population mean is:', population_20_mean)\n",
    "# print population mean of sepal_width value"
   ]
  },
  {
   "cell_type": "markdown",
   "metadata": {},
   "source": [
    "## Q3: What is the 95% confidence interval for the difference of population means for 'sepal_width' of species 'setosa' and 'virginica' in the sample dataset iris_sample_50?\n",
    "    - First you will have to separate the data for each of the species.\n",
    "    - Print the sample size for both the species.\n",
    "    - What distribution will you use for estimating the confidence interval. Why will you use this distribution?\n",
    "    - Print the confidence interval.\n",
    "    - Write a well commented code. \n",
    "    - Create all the intermediate variables step by step that you will need to create the 95% CI."
   ]
  },
  {
   "cell_type": "code",
   "execution_count": null,
   "metadata": {},
   "outputs": [],
   "source": [
    "## type your code here ##\n",
    "\n",
    "# separating the dataset by the two species\n",
    "setosa = iris_sample_50[iris_sample_50['species'] == 'setosa']\n",
    "virginica = iris_sample_50[iris_sample_50['species'] == 'virginica']\n",
    "\n",
    "#sample sizes\n",
    "setosa_size = len(setosa)\n",
    "virginica_size = len(virginica)\n",
    "\n",
    "# print the sample sizes for each species\n",
    "print(\"setosa_size:\", setosa_size, 'virginica_size:', virginica_size)\n",
    "\n",
    "# print which distribution you will use to compute the CI (z-table or t-table) and why.\n",
    "#use t-table because it has small value \n",
    " \n",
    "# find the z-value/t-value for the desired $alpha$ confidence level for a given number of degrees of freedom. Using the scipy package. \n",
    "alpha = 0.05\n",
    "\n",
    "# print the z or t value that you will use.\n",
    "\n",
    "# computing the sample means of 'septal_width' for the two species\n",
    "setosa_mean = setosa['sepal_width'].mean()\n",
    "virginica_mean = virginica['sepal_width'].mean()\n",
    "\n",
    "# Calculate the difference in means\n",
    "difference_mean = setosa_mean - virginica_mean\n",
    "# computing the sample standard deviations of 'septal_width' for the two species\n",
    "setosa_std = setosa['sepal_width'].std\n",
    "virginica_std = virginica['sepal_width'].std\n",
    "\n",
    "# compute the 95% CI\n",
    "\n",
    "# print the CI results"
   ]
  },
  {
   "cell_type": "code",
   "execution_count": null,
   "metadata": {},
   "outputs": [],
   "source": [
    "\n",
    "# Perform two-sample t-test\n",
    "t_statistic, p_value = stats.ttest_ind(iris['sepal_length'], iris['petal_length'])\n",
    "\n",
    "# Output the results\n",
    "print(f\"T-statistic: {t_statistic}\")\n",
    "print(f\"P-value: {p_value}\")\n"
   ]
  },
  {
   "cell_type": "code",
   "execution_count": null,
   "metadata": {},
   "outputs": [],
   "source": [
    "i =1\n",
    "while True:\n",
    "    if(i+1) % 3 ==0:\n",
    "        break\n",
    "    print(i)\n",
    "    i = i+1"
   ]
  },
  {
   "cell_type": "code",
   "execution_count": 17,
   "metadata": {},
   "outputs": [
    {
     "name": "stdout",
     "output_type": "stream",
     "text": [
      "True\n"
     ]
    }
   ],
   "source": [
    "def foo(x):\n",
    "    x[0]=['def']\n",
    "    x[1]=['abc']\n",
    "    return id(x)\n",
    "q= ['abc', 'def']\n",
    "print(id(q) == foo(q))"
   ]
  },
  {
   "cell_type": "code",
   "execution_count": 29,
   "metadata": {},
   "outputs": [
    {
     "name": "stdout",
     "output_type": "stream",
     "text": [
      "0\n",
      "0\n",
      "1\n",
      "0\n",
      "2\n"
     ]
    }
   ],
   "source": [
    "i=0\n",
    "while i<5:\n",
    "    print(i)\n",
    "    i+=1\n",
    "    if i == 3:\n",
    "        break\n",
    "    else:\n",
    "        print(0)  \n"
   ]
  },
  {
   "cell_type": "code",
   "execution_count": 22,
   "metadata": {},
   "outputs": [
    {
     "name": "stdout",
     "output_type": "stream",
     "text": [
      "1  \n",
      "2  \n",
      "3  \n",
      "4  \n",
      "5  \n",
      "6  \n"
     ]
    }
   ],
   "source": [
    "list_1 = [0,1,2,3,4,5,6,7]\n",
    "for i in range (0,7):\n",
    "    list_1[i-1] = list_1[i]\n",
    "for i in range(0,6):\n",
    "        print(list_1[i], \" \")"
   ]
  }
 ],
 "metadata": {
  "kernelspec": {
   "display_name": "introduction",
   "language": "python",
   "name": "python3"
  },
  "language_info": {
   "codemirror_mode": {
    "name": "ipython",
    "version": 3
   },
   "file_extension": ".py",
   "mimetype": "text/x-python",
   "name": "python",
   "nbconvert_exporter": "python",
   "pygments_lexer": "ipython3",
   "version": "3.11.9"
  },
  "orig_nbformat": 4
 },
 "nbformat": 4,
 "nbformat_minor": 2
}
